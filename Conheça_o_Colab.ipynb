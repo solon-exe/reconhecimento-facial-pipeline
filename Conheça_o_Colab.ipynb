{
  "cells": [
    {
      "cell_type": "markdown",
      "metadata": {
        "id": "view-in-github",
        "colab_type": "text"
      },
      "source": [
        "<a href=\"https://colab.research.google.com/github/solon-exe/reconhecimento-facial-pipeline/blob/main/Conhe%C3%A7a_o_Colab.ipynb\" target=\"_parent\"><img src=\"https://colab.research.google.com/assets/colab-badge.svg\" alt=\"Open In Colab\"/></a>"
      ]
    },
    {
      "cell_type": "code",
      "source": [
        "from google.colab import files\n",
        "\n",
        "# Faça o upload de TODOS os arquivos necessários de uma só vez:\n",
        "# - face_detection.pb\n",
        "# - face_classifier.h5\n",
        "# - imagens de teste (.jpg, .png etc.)\n",
        "uploaded = files.upload()\n",
        "# Depois de subir, eles ficarão disponíveis em /content/<nome_do_arquivo>"
      ],
      "metadata": {
        "id": "VeTRkETpPz8G"
      },
      "execution_count": 2,
      "outputs": []
    },
    {
      "cell_type": "code",
      "source": [
        "import cv2\n",
        "import numpy as np\n",
        "import tensorflow as tf\n",
        "import matplotlib.pyplot as plt"
      ],
      "metadata": {
        "id": "1ldx90igQh2j"
      },
      "execution_count": null,
      "outputs": []
    },
    {
      "cell_type": "code",
      "source": [
        "DETECT_MODEL_PATH = 'face_detection.pb'   # arquivo que você fez upload\n",
        "\n",
        "detector = cv2.dnn.readNetFromTensorflow(DETECT_MODEL_PATH)"
      ],
      "metadata": {
        "id": "wsbYV5giQucW"
      },
      "execution_count": null,
      "outputs": []
    },
    {
      "cell_type": "code",
      "source": [
        "def detect_faces(img, conf_threshold=0.5):\n",
        "    h, w = img.shape[:2]\n",
        "    blob = cv2.dnn.blobFromImage(img, 1.0, (300,300), (104,117,123), swapRB=False)\n",
        "    detector.setInput(blob)\n",
        "    detections = detector.forward()\n",
        "    boxes = []\n",
        "    for i in range(detections.shape[2]):\n",
        "        score = detections[0,0,i,2]\n",
        "        if score > conf_threshold:\n",
        "            box = detections[0,0,i,3:7] * np.array([w,h,w,h])\n",
        "            x1,y1,x2,y2 = box.astype(int)\n",
        "            boxes.append([x1,y1,x2,y2])\n",
        "    return boxes"
      ],
      "metadata": {
        "id": "adTRniHIQxdI"
      },
      "execution_count": null,
      "outputs": []
    },
    {
      "cell_type": "code",
      "source": [
        "W, H = 160, 160   # ajuste para o seu classificador\n",
        "\n",
        "def extract_face(img, box):\n",
        "    x1, y1, x2, y2 = box\n",
        "    face = img[y1:y2, x1:x2]\n",
        "    face = cv2.resize(face, (W, H))\n",
        "    face = face.astype('float32') / 255.0\n",
        "    return np.expand_dims(face, axis=0)"
      ],
      "metadata": {
        "id": "E2_dG3T3Q0iQ"
      },
      "execution_count": null,
      "outputs": []
    },
    {
      "cell_type": "code",
      "source": [
        "CLASS_MODEL_PATH = 'face_classifier.h5'   # arquivo que você fez upload\n",
        "classifier = tf.keras.models.load_model(CLASS_MODEL_PATH)\n",
        "\n",
        "# Ajuste a lista abaixo de acordo com suas classes\n",
        "CLASS_NAMES = ['amy','raj','penny','sheldon','leonard','bernadette']"
      ],
      "metadata": {
        "id": "XKA7EzabQ3kj"
      },
      "execution_count": null,
      "outputs": []
    },
    {
      "cell_type": "code",
      "source": [
        "def classify_face(face_tensor):\n",
        "    preds = classifier.predict(face_tensor)[0]\n",
        "    idx = np.argmax(preds)\n",
        "    return CLASS_NAMES[idx], float(preds[idx])"
      ],
      "metadata": {
        "id": "wVzuUmHkQ6cx"
      },
      "execution_count": null,
      "outputs": []
    },
    {
      "cell_type": "code",
      "source": [
        "# Ajuste o nome da imagem de teste que você fez upload\n",
        "img = cv2.imread('grupo.jpg')\n",
        "img_rgb = cv2.cvtColor(img, cv2.COLOR_BGR2RGB)\n",
        "\n",
        "boxes = detect_faces(img)\n",
        "for box in boxes:\n",
        "    face = extract_face(img_rgb, box)\n",
        "    name, score = classify_face(face)\n",
        "    x1,y1,x2,y2 = box\n",
        "    cv2.rectangle(img_rgb, (x1,y1), (x2,y2), (0,255,0), 2)\n",
        "    cv2.putText(img_rgb, f\"{name} ({score:.2f})\", (x1, y1-10),\n",
        "                cv2.FONT_HERSHEY_SIMPLEX, 0.8, (0,255,0), 2)\n",
        "\n",
        "plt.figure(figsize=(10,8))\n",
        "plt.imshow(img_rgb)\n",
        "plt.axis('off')\n",
        "plt.show()"
      ],
      "metadata": {
        "id": "3SdHeVN2Q6To"
      },
      "execution_count": null,
      "outputs": []
    },
    {
      "cell_type": "code",
      "source": [
        "# Salva imagem final no ambiente do Colab\n",
        "plt.imsave('resultado_pipeline.jpg', img_rgb)"
      ],
      "metadata": {
        "id": "dGLpuvF_REN4"
      },
      "execution_count": null,
      "outputs": []
    }
  ],
  "metadata": {
    "colab": {
      "name": "Conheça o Colab",
      "provenance": [],
      "include_colab_link": true
    },
    "kernelspec": {
      "display_name": "Python 3",
      "name": "python3"
    }
  },
  "nbformat": 4,
  "nbformat_minor": 0
}